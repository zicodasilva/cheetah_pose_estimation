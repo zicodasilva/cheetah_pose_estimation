{
 "cells": [
  {
   "cell_type": "code",
   "execution_count": null,
   "metadata": {},
   "outputs": [],
   "source": [
    "\n",
    "import os\n",
    "import platform\n",
    "import dill\n",
    "import json\n",
    "import acinoset_opt as opt\n",
    "\n",
    "%load_ext autoreload\n",
    "%autoreload 2\n",
    "\n",
    "%matplotlib inline"
   ]
  },
  {
   "cell_type": "code",
   "execution_count": null,
   "metadata": {},
   "outputs": [],
   "source": [
    "# Configure trajectory.\n",
    "root_dir = \"/data/zico/cheetah_videos\"\n",
    "kinetic_dataset = False\n",
    "cheetah = \"phantom\"\n",
    "trial = \"run\"\n",
    "date = \"2019_03_07\"\n",
    "data_path = f\"kinetic_dataset/{date}/{cheetah}/trial{trial}\" if kinetic_dataset else f\"{date}/{cheetah}/{trial}\"\n",
    "estimator = opt.init_trajectory(root_dir,\n",
    "                                data_path,\n",
    "                                cheetah,\n",
    "                                kinetic_dataset,\n",
    "                                kinematic_model=True,\n",
    "                                monocular_enable=False,\n",
    "                                # override_monocular_cam=0,\n",
    "                                enable_eom_slack=True,\n",
    "                                bound_eom_error=(-2.0, 2.0))\n"
   ]
  },
  {
   "cell_type": "code",
   "execution_count": null,
   "metadata": {},
   "outputs": [],
   "source": [
    "# Perform kinematic estimation.\n",
    "opt.estimate_kinematics(estimator, monocular_constraints=False)"
   ]
  },
  {
   "cell_type": "code",
   "execution_count": null,
   "metadata": {},
   "outputs": [],
   "source": [
    "opt.determine_contacts(estimator, monocular=False)"
   ]
  },
  {
   "cell_type": "code",
   "execution_count": null,
   "metadata": {},
   "outputs": [],
   "source": [
    "# Perform torque estimation, using a previous kinematic solution.\n",
    "opt.estimate_kinetics(estimator, init_torques=False, init_prev_kinematic_solution=False, joint_estimation=True, auto=True)"
   ]
  },
  {
   "cell_type": "code",
   "execution_count": null,
   "metadata": {},
   "outputs": [],
   "source": [
    "# A quick animation output.\n",
    "estimator.model.animate(view_along=(0, 90), lims=((-6, 10), (-2, 2), (-0.1, 1.0)), aspect_ratio=(6, 1, 1), use_html5_video=False)"
   ]
  },
  {
   "cell_type": "code",
   "execution_count": null,
   "metadata": {},
   "outputs": [],
   "source": [
    "# Plot states of robot.\n",
    "estimator.model.plot()"
   ]
  }
 ],
 "metadata": {
  "kernelspec": {
   "display_name": "acinoset",
   "language": "python",
   "name": "python3"
  },
  "language_info": {
   "codemirror_mode": {
    "name": "ipython",
    "version": 3
   },
   "file_extension": ".py",
   "mimetype": "text/x-python",
   "name": "python",
   "nbconvert_exporter": "python",
   "pygments_lexer": "ipython3",
   "version": "3.7.9 | packaged by conda-forge | (default, Feb 13 2021, 19:53:10) \n[Clang 11.0.1 ]"
  },
  "orig_nbformat": 4,
  "vscode": {
   "interpreter": {
    "hash": "fc279da7786d0eab48961ab7053fb10f4eeec0649a2f51210534b00cbdb2b1af"
   }
  }
 },
 "nbformat": 4,
 "nbformat_minor": 2
}
